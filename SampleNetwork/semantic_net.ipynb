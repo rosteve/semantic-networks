{
 "cells": [
  {
   "cell_type": "code",
   "execution_count": 8,
   "metadata": {},
   "outputs": [],
   "source": [
    "#!/usr/bin/python\n",
    "\n",
    "import sys\n",
    "\n",
    "SEMANTIC_NET_PATH = \"../\"\n",
    "sys.path.insert(0, SEMANTIC_NET_PATH)\n",
    "import SemanticNet as sn\n",
    "\n",
    "graph = sn.Graph()\n",
    "\n",
    "a = graph.add_node({\"label\" : \"A\"})\n",
    "b = graph.add_node({\"label\" : \"B\"})\n",
    "c = graph.add_node({\"label\" : \"C\"})\n",
    "\n",
    "graph.add_edge(a, b, {\"type\" : \"belongs\"})\n",
    "graph.add_edge(b, c, {\"type\" : \"owns\"})\n",
    "graph.add_edge(c, a, {\"type\" : \"has\"})\n",
    "\n",
    "graph.save_json(\"output.json\")\n"
   ]
  },
  {
   "cell_type": "code",
   "execution_count": null,
   "metadata": {},
   "outputs": [],
   "source": []
  },
  {
   "cell_type": "code",
   "execution_count": null,
   "metadata": {},
   "outputs": [],
   "source": []
  }
 ],
 "metadata": {
  "kernelspec": {
   "display_name": "Python 3",
   "language": "python",
   "name": "python3"
  },
  "language_info": {
   "codemirror_mode": {
    "name": "ipython",
    "version": 3
   },
   "file_extension": ".py",
   "mimetype": "text/x-python",
   "name": "python",
   "nbconvert_exporter": "python",
   "pygments_lexer": "ipython3",
   "version": "3.7.0"
  }
 },
 "nbformat": 4,
 "nbformat_minor": 2
}
